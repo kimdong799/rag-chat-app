{
 "cells": [
  {
   "cell_type": "code",
   "execution_count": 1,
   "metadata": {},
   "outputs": [
    {
     "name": "stdout",
     "output_type": "stream",
     "text": [
      "Collecting python-dotenv\n",
      "  Using cached python_dotenv-1.0.1-py3-none-any.whl (19 kB)\n",
      "Collecting langchain\n",
      "  Using cached langchain-0.3.14-py3-none-any.whl (1.0 MB)\n",
      "Collecting langchain-openai\n",
      "  Using cached langchain_openai-0.2.14-py3-none-any.whl (50 kB)\n",
      "Collecting langchain-community\n",
      "  Using cached langchain_community-0.3.14-py3-none-any.whl (2.5 MB)\n",
      "Collecting langchain-text-splitters\n",
      "  Using cached langchain_text_splitters-0.3.4-py3-none-any.whl (27 kB)\n",
      "Collecting docx2txt\n",
      "  Using cached docx2txt-0.8.tar.gz (2.8 kB)\n",
      "  Preparing metadata (setup.py): started\n",
      "  Preparing metadata (setup.py): finished with status 'done'\n",
      "Collecting langchain-chroma\n",
      "  Using cached langchain_chroma-0.1.4-py3-none-any.whl (10 kB)\n",
      "Requirement already satisfied: PyYAML>=5.3 in c:\\users\\kimdo\\appdata\\local\\programs\\python\\python310\\lib\\site-packages (from langchain) (6.0)\n",
      "Collecting aiohttp<4.0.0,>=3.8.3\n",
      "  Using cached aiohttp-3.11.11-cp310-cp310-win_amd64.whl (442 kB)\n",
      "Collecting langsmith<0.3,>=0.1.17\n",
      "  Using cached langsmith-0.2.10-py3-none-any.whl (326 kB)\n",
      "Collecting langchain-core<0.4.0,>=0.3.29\n",
      "  Using cached langchain_core-0.3.29-py3-none-any.whl (411 kB)\n",
      "Collecting SQLAlchemy<3,>=1.4\n",
      "  Using cached SQLAlchemy-2.0.36-cp310-cp310-win_amd64.whl (2.1 MB)\n",
      "Collecting tenacity!=8.4.0,<10,>=8.1.0\n",
      "  Using cached tenacity-9.0.0-py3-none-any.whl (28 kB)\n",
      "Collecting pydantic<3.0.0,>=2.7.4\n",
      "  Using cached pydantic-2.10.4-py3-none-any.whl (431 kB)\n",
      "Requirement already satisfied: numpy<2,>=1.22.4 in c:\\users\\kimdo\\appdata\\local\\programs\\python\\python310\\lib\\site-packages (from langchain) (1.23.0)\n",
      "Requirement already satisfied: requests<3,>=2 in c:\\users\\kimdo\\appdata\\roaming\\python\\python310\\site-packages (from langchain) (2.28.2)\n",
      "Collecting async-timeout<5.0.0,>=4.0.0\n",
      "  Using cached async_timeout-4.0.3-py3-none-any.whl (5.7 kB)\n",
      "Collecting openai<2.0.0,>=1.58.1\n",
      "  Using cached openai-1.59.3-py3-none-any.whl (454 kB)\n",
      "Collecting tiktoken<1,>=0.7\n",
      "  Using cached tiktoken-0.8.0-cp310-cp310-win_amd64.whl (884 kB)\n",
      "Collecting dataclasses-json<0.7,>=0.5.7\n",
      "  Using cached dataclasses_json-0.6.7-py3-none-any.whl (28 kB)\n",
      "Collecting pydantic-settings<3.0.0,>=2.4.0\n",
      "  Using cached pydantic_settings-2.7.1-py3-none-any.whl (29 kB)\n",
      "Collecting httpx-sse<0.5.0,>=0.4.0\n",
      "  Using cached httpx_sse-0.4.0-py3-none-any.whl (7.8 kB)\n",
      "Collecting chromadb!=0.5.4,!=0.5.5,<0.6.0,>=0.4.0\n",
      "  Using cached chromadb-0.5.23-py3-none-any.whl (628 kB)\n",
      "Collecting fastapi<1,>=0.95.2\n",
      "  Using cached fastapi-0.115.6-py3-none-any.whl (94 kB)\n",
      "Collecting aiohappyeyeballs>=2.3.0\n",
      "  Using cached aiohappyeyeballs-2.4.4-py3-none-any.whl (14 kB)\n",
      "Collecting multidict<7.0,>=4.5\n",
      "  Using cached multidict-6.1.0-cp310-cp310-win_amd64.whl (28 kB)\n",
      "Collecting yarl<2.0,>=1.17.0\n",
      "  Using cached yarl-1.18.3-cp310-cp310-win_amd64.whl (90 kB)\n",
      "Collecting frozenlist>=1.1.1\n",
      "  Using cached frozenlist-1.5.0-cp310-cp310-win_amd64.whl (51 kB)\n",
      "Collecting propcache>=0.2.0\n",
      "  Using cached propcache-0.2.1-cp310-cp310-win_amd64.whl (44 kB)\n",
      "Collecting aiosignal>=1.1.2\n",
      "  Using cached aiosignal-1.3.2-py2.py3-none-any.whl (7.6 kB)\n",
      "Requirement already satisfied: attrs>=17.3.0 in c:\\users\\kimdo\\appdata\\local\\programs\\python\\python310\\lib\\site-packages (from aiohttp<4.0.0,>=3.8.3->langchain) (21.4.0)\n",
      "Collecting importlib-resources\n",
      "  Using cached importlib_resources-6.5.2-py3-none-any.whl (37 kB)\n",
      "Collecting onnxruntime>=1.14.1\n",
      "  Using cached onnxruntime-1.20.1-cp310-cp310-win_amd64.whl (11.3 MB)\n",
      "Collecting kubernetes>=28.1.0\n",
      "  Using cached kubernetes-31.0.0-py2.py3-none-any.whl (1.9 MB)\n",
      "Collecting pypika>=0.48.9\n",
      "  Using cached PyPika-0.48.9.tar.gz (67 kB)\n",
      "  Installing build dependencies: started\n",
      "  Installing build dependencies: finished with status 'done'\n",
      "  Getting requirements to build wheel: started\n",
      "  Getting requirements to build wheel: finished with status 'done'\n",
      "  Preparing metadata (pyproject.toml): started\n",
      "  Preparing metadata (pyproject.toml): finished with status 'done'\n",
      "Requirement already satisfied: typing_extensions>=4.5.0 in c:\\users\\kimdo\\appdata\\roaming\\python\\python310\\site-packages (from chromadb!=0.5.4,!=0.5.5,<0.6.0,>=0.4.0->langchain-chroma) (4.12.2)\n",
      "Collecting opentelemetry-sdk>=1.2.0\n",
      "  Using cached opentelemetry_sdk-1.29.0-py3-none-any.whl (118 kB)\n",
      "Collecting overrides>=7.3.1\n",
      "  Using cached overrides-7.7.0-py3-none-any.whl (17 kB)\n",
      "Collecting grpcio>=1.58.0\n",
      "  Using cached grpcio-1.69.0-cp310-cp310-win_amd64.whl (4.4 MB)\n",
      "Collecting rich>=10.11.0\n",
      "  Using cached rich-13.9.4-py3-none-any.whl (242 kB)\n",
      "Collecting httpx>=0.27.0\n",
      "  Using cached httpx-0.28.1-py3-none-any.whl (73 kB)\n",
      "Collecting uvicorn[standard]>=0.18.3\n",
      "  Using cached uvicorn-0.34.0-py3-none-any.whl (62 kB)\n",
      "Collecting orjson>=3.9.12\n",
      "  Using cached orjson-3.10.13-cp310-cp310-win_amd64.whl (135 kB)\n",
      "Collecting opentelemetry-api>=1.2.0\n",
      "  Using cached opentelemetry_api-1.29.0-py3-none-any.whl (64 kB)\n",
      "Collecting opentelemetry-exporter-otlp-proto-grpc>=1.2.0\n",
      "  Using cached opentelemetry_exporter_otlp_proto_grpc-1.29.0-py3-none-any.whl (18 kB)\n",
      "Collecting chroma-hnswlib==0.7.6\n",
      "  Using cached chroma_hnswlib-0.7.6-cp310-cp310-win_amd64.whl (150 kB)\n",
      "Requirement already satisfied: build>=1.0.3 in c:\\users\\kimdo\\appdata\\local\\programs\\python\\python310\\lib\\site-packages (from chromadb!=0.5.4,!=0.5.5,<0.6.0,>=0.4.0->langchain-chroma) (1.2.2.post1)\n",
      "Collecting mmh3>=4.0.1\n",
      "  Using cached mmh3-5.0.1-cp310-cp310-win_amd64.whl (39 kB)\n",
      "Collecting tqdm>=4.65.0\n",
      "  Using cached tqdm-4.67.1-py3-none-any.whl (78 kB)\n",
      "Collecting typer>=0.9.0\n",
      "  Using cached typer-0.15.1-py3-none-any.whl (44 kB)\n",
      "Collecting bcrypt>=4.0.1\n",
      "  Using cached bcrypt-4.2.1-cp39-abi3-win_amd64.whl (153 kB)\n",
      "Collecting posthog>=2.4.0\n",
      "  Using cached posthog-3.7.5-py2.py3-none-any.whl (54 kB)\n",
      "Requirement already satisfied: tokenizers<=0.20.3,>=0.13.2 in c:\\users\\kimdo\\appdata\\local\\programs\\python\\python310\\lib\\site-packages (from chromadb!=0.5.4,!=0.5.5,<0.6.0,>=0.4.0->langchain-chroma) (0.13.2)\n",
      "Collecting opentelemetry-instrumentation-fastapi>=0.41b0\n",
      "  Using cached opentelemetry_instrumentation_fastapi-0.50b0-py3-none-any.whl (12 kB)\n",
      "Collecting typing-inspect<1,>=0.4.0\n",
      "  Using cached typing_inspect-0.9.0-py3-none-any.whl (8.8 kB)\n",
      "Collecting marshmallow<4.0.0,>=3.18.0\n",
      "  Using cached marshmallow-3.23.3-py3-none-any.whl (48 kB)\n",
      "Collecting starlette<0.42.0,>=0.40.0\n",
      "  Using cached starlette-0.41.3-py3-none-any.whl (73 kB)\n",
      "Requirement already satisfied: packaging<25,>=23.2 in c:\\users\\kimdo\\appdata\\local\\programs\\python\\python310\\lib\\site-packages (from langchain-core<0.4.0,>=0.3.29->langchain) (24.2)\n",
      "Collecting jsonpatch<2.0,>=1.33\n",
      "  Using cached jsonpatch-1.33-py2.py3-none-any.whl (12 kB)\n",
      "Requirement already satisfied: requests-toolbelt<2.0.0,>=1.0.0 in c:\\users\\kimdo\\appdata\\local\\programs\\python\\python310\\lib\\site-packages (from langsmith<0.3,>=0.1.17->langchain) (1.0.0)\n",
      "Collecting anyio<5,>=3.5.0\n",
      "  Using cached anyio-4.8.0-py3-none-any.whl (96 kB)\n",
      "Collecting jiter<1,>=0.4.0\n",
      "  Using cached jiter-0.8.2-cp310-cp310-win_amd64.whl (204 kB)\n",
      "Collecting distro<2,>=1.7.0\n",
      "  Using cached distro-1.9.0-py3-none-any.whl (20 kB)\n",
      "Requirement already satisfied: sniffio in c:\\users\\kimdo\\appdata\\local\\programs\\python\\python310\\lib\\site-packages (from openai<2.0.0,>=1.58.1->langchain-openai) (1.2.0)\n",
      "Collecting pydantic-core==2.27.2\n",
      "  Using cached pydantic_core-2.27.2-cp310-cp310-win_amd64.whl (2.0 MB)\n",
      "Collecting annotated-types>=0.6.0\n",
      "  Using cached annotated_types-0.7.0-py3-none-any.whl (13 kB)\n",
      "Requirement already satisfied: certifi>=2017.4.17 in c:\\users\\kimdo\\appdata\\roaming\\python\\python310\\site-packages (from requests<3,>=2->langchain) (2022.12.7)\n",
      "Requirement already satisfied: urllib3<1.27,>=1.21.1 in c:\\users\\kimdo\\appdata\\roaming\\python\\python310\\site-packages (from requests<3,>=2->langchain) (1.26.14)\n",
      "Requirement already satisfied: charset-normalizer<4,>=2 in c:\\users\\kimdo\\appdata\\roaming\\python\\python310\\site-packages (from requests<3,>=2->langchain) (3.0.1)\n",
      "Requirement already satisfied: idna<4,>=2.5 in c:\\users\\kimdo\\appdata\\roaming\\python\\python310\\site-packages (from requests<3,>=2->langchain) (3.4)\n",
      "Collecting greenlet!=0.4.17\n",
      "  Using cached greenlet-3.1.1-cp310-cp310-win_amd64.whl (298 kB)\n",
      "Requirement already satisfied: regex>=2022.1.18 in c:\\users\\kimdo\\appdata\\local\\programs\\python\\python310\\lib\\site-packages (from tiktoken<1,>=0.7->langchain-openai) (2022.10.31)\n",
      "Requirement already satisfied: exceptiongroup>=1.0.2 in c:\\users\\kimdo\\appdata\\roaming\\python\\python310\\site-packages (from anyio<5,>=3.5.0->openai<2.0.0,>=1.58.1->langchain-openai) (1.2.2)\n",
      "Requirement already satisfied: pyproject_hooks in c:\\users\\kimdo\\appdata\\local\\programs\\python\\python310\\lib\\site-packages (from build>=1.0.3->chromadb!=0.5.4,!=0.5.5,<0.6.0,>=0.4.0->langchain-chroma) (1.2.0)\n",
      "Requirement already satisfied: colorama in c:\\users\\kimdo\\appdata\\local\\programs\\python\\python310\\lib\\site-packages (from build>=1.0.3->chromadb!=0.5.4,!=0.5.5,<0.6.0,>=0.4.0->langchain-chroma) (0.4.4)\n",
      "Requirement already satisfied: tomli>=1.1.0 in c:\\users\\kimdo\\appdata\\local\\programs\\python\\python310\\lib\\site-packages (from build>=1.0.3->chromadb!=0.5.4,!=0.5.5,<0.6.0,>=0.4.0->langchain-chroma) (2.0.1)\n",
      "Collecting httpcore==1.*\n",
      "  Using cached httpcore-1.0.7-py3-none-any.whl (78 kB)\n",
      "Requirement already satisfied: h11<0.15,>=0.13 in c:\\users\\kimdo\\appdata\\local\\programs\\python\\python310\\lib\\site-packages (from httpcore==1.*->httpx>=0.27.0->chromadb!=0.5.4,!=0.5.5,<0.6.0,>=0.4.0->langchain-chroma) (0.13.0)\n",
      "Collecting jsonpointer>=1.9\n",
      "  Using cached jsonpointer-3.0.0-py2.py3-none-any.whl (7.6 kB)\n",
      "Requirement already satisfied: requests-oauthlib in c:\\users\\kimdo\\appdata\\roaming\\python\\python310\\site-packages (from kubernetes>=28.1.0->chromadb!=0.5.4,!=0.5.5,<0.6.0,>=0.4.0->langchain-chroma) (1.3.1)\n",
      "Requirement already satisfied: oauthlib>=3.2.2 in c:\\users\\kimdo\\appdata\\roaming\\python\\python310\\site-packages (from kubernetes>=28.1.0->chromadb!=0.5.4,!=0.5.5,<0.6.0,>=0.4.0->langchain-chroma) (3.2.2)\n",
      "Requirement already satisfied: six>=1.9.0 in c:\\users\\kimdo\\appdata\\roaming\\python\\python310\\site-packages (from kubernetes>=28.1.0->chromadb!=0.5.4,!=0.5.5,<0.6.0,>=0.4.0->langchain-chroma) (1.16.0)\n",
      "Collecting websocket-client!=0.40.0,!=0.41.*,!=0.42.*,>=0.32.0\n",
      "  Using cached websocket_client-1.8.0-py3-none-any.whl (58 kB)\n",
      "Requirement already satisfied: google-auth>=1.0.1 in c:\\users\\kimdo\\appdata\\roaming\\python\\python310\\site-packages (from kubernetes>=28.1.0->chromadb!=0.5.4,!=0.5.5,<0.6.0,>=0.4.0->langchain-chroma) (2.16.0)\n",
      "Requirement already satisfied: python-dateutil>=2.5.3 in c:\\users\\kimdo\\appdata\\local\\programs\\python\\python310\\lib\\site-packages (from kubernetes>=28.1.0->chromadb!=0.5.4,!=0.5.5,<0.6.0,>=0.4.0->langchain-chroma) (2.8.2)\n",
      "Collecting durationpy>=0.7\n",
      "  Using cached durationpy-0.9-py3-none-any.whl (3.5 kB)\n",
      "Requirement already satisfied: flatbuffers in c:\\users\\kimdo\\appdata\\roaming\\python\\python310\\site-packages (from onnxruntime>=1.14.1->chromadb!=0.5.4,!=0.5.5,<0.6.0,>=0.4.0->langchain-chroma) (23.1.4)\n",
      "Collecting coloredlogs\n",
      "  Using cached coloredlogs-15.0.1-py2.py3-none-any.whl (46 kB)\n",
      "Requirement already satisfied: protobuf in c:\\users\\kimdo\\appdata\\roaming\\python\\python310\\site-packages (from onnxruntime>=1.14.1->chromadb!=0.5.4,!=0.5.5,<0.6.0,>=0.4.0->langchain-chroma) (3.19.6)\n",
      "Collecting sympy\n",
      "  Using cached sympy-1.13.3-py3-none-any.whl (6.2 MB)\n",
      "Requirement already satisfied: importlib-metadata<=8.5.0,>=6.0 in c:\\users\\kimdo\\appdata\\local\\programs\\python\\python310\\lib\\site-packages (from opentelemetry-api>=1.2.0->chromadb!=0.5.4,!=0.5.5,<0.6.0,>=0.4.0->langchain-chroma) (8.5.0)\n",
      "Collecting deprecated>=1.2.6\n",
      "  Using cached Deprecated-1.2.15-py2.py3-none-any.whl (9.9 kB)\n",
      "Collecting opentelemetry-exporter-otlp-proto-common==1.29.0\n",
      "  Using cached opentelemetry_exporter_otlp_proto_common-1.29.0-py3-none-any.whl (18 kB)\n",
      "Collecting googleapis-common-protos~=1.52\n",
      "  Using cached googleapis_common_protos-1.66.0-py2.py3-none-any.whl (221 kB)\n",
      "Collecting opentelemetry-proto==1.29.0\n",
      "  Using cached opentelemetry_proto-1.29.0-py3-none-any.whl (55 kB)\n",
      "Collecting protobuf\n",
      "  Using cached protobuf-5.29.2-cp310-abi3-win_amd64.whl (434 kB)\n",
      "Collecting opentelemetry-instrumentation==0.50b0\n",
      "  Using cached opentelemetry_instrumentation-0.50b0-py3-none-any.whl (30 kB)\n",
      "Collecting opentelemetry-semantic-conventions==0.50b0\n",
      "  Using cached opentelemetry_semantic_conventions-0.50b0-py3-none-any.whl (166 kB)\n",
      "Collecting opentelemetry-util-http==0.50b0\n",
      "  Using cached opentelemetry_util_http-0.50b0-py3-none-any.whl (6.9 kB)\n",
      "Collecting opentelemetry-instrumentation-asgi==0.50b0\n",
      "  Using cached opentelemetry_instrumentation_asgi-0.50b0-py3-none-any.whl (16 kB)\n",
      "Requirement already satisfied: wrapt<2.0.0,>=1.0.0 in c:\\users\\kimdo\\appdata\\roaming\\python\\python310\\site-packages (from opentelemetry-instrumentation==0.50b0->opentelemetry-instrumentation-fastapi>=0.41b0->chromadb!=0.5.4,!=0.5.5,<0.6.0,>=0.4.0->langchain-chroma) (1.14.1)\n",
      "Collecting asgiref~=3.0\n",
      "  Using cached asgiref-3.8.1-py3-none-any.whl (23 kB)\n",
      "Collecting backoff>=1.10.0\n",
      "  Using cached backoff-2.2.1-py3-none-any.whl (15 kB)\n",
      "Collecting monotonic>=1.5\n",
      "  Using cached monotonic-1.6-py2.py3-none-any.whl (8.2 kB)\n",
      "Collecting markdown-it-py>=2.2.0\n",
      "  Using cached markdown_it_py-3.0.0-py3-none-any.whl (87 kB)\n",
      "Requirement already satisfied: pygments<3.0.0,>=2.13.0 in c:\\users\\kimdo\\appdata\\roaming\\python\\python310\\site-packages (from rich>=10.11.0->chromadb!=0.5.4,!=0.5.5,<0.6.0,>=0.4.0->langchain-chroma) (2.19.0)\n",
      "Requirement already satisfied: shellingham>=1.3.0 in c:\\users\\kimdo\\appdata\\local\\programs\\python\\python310\\lib\\site-packages (from typer>=0.9.0->chromadb!=0.5.4,!=0.5.5,<0.6.0,>=0.4.0->langchain-chroma) (1.5.4)\n",
      "Collecting click>=8.0.0\n",
      "  Using cached click-8.1.8-py3-none-any.whl (98 kB)\n",
      "Requirement already satisfied: mypy-extensions>=0.3.0 in c:\\users\\kimdo\\appdata\\local\\programs\\python\\python310\\lib\\site-packages (from typing-inspect<1,>=0.4.0->dataclasses-json<0.7,>=0.5.7->langchain-community) (0.4.3)\n",
      "Collecting httptools>=0.6.3\n",
      "  Using cached httptools-0.6.4-cp310-cp310-win_amd64.whl (88 kB)\n",
      "Collecting websockets>=10.4\n",
      "  Using cached websockets-14.1-cp310-cp310-win_amd64.whl (163 kB)\n",
      "Collecting watchfiles>=0.13\n",
      "  Using cached watchfiles-1.0.3-cp310-cp310-win_amd64.whl (284 kB)\n",
      "Requirement already satisfied: rsa<5,>=3.1.4 in c:\\users\\kimdo\\appdata\\roaming\\python\\python310\\site-packages (from google-auth>=1.0.1->kubernetes>=28.1.0->chromadb!=0.5.4,!=0.5.5,<0.6.0,>=0.4.0->langchain-chroma) (4.9)\n",
      "Requirement already satisfied: pyasn1-modules>=0.2.1 in c:\\users\\kimdo\\appdata\\roaming\\python\\python310\\site-packages (from google-auth>=1.0.1->kubernetes>=28.1.0->chromadb!=0.5.4,!=0.5.5,<0.6.0,>=0.4.0->langchain-chroma) (0.2.8)\n",
      "Requirement already satisfied: cachetools<6.0,>=2.0.0 in c:\\users\\kimdo\\appdata\\roaming\\python\\python310\\site-packages (from google-auth>=1.0.1->kubernetes>=28.1.0->chromadb!=0.5.4,!=0.5.5,<0.6.0,>=0.4.0->langchain-chroma) (5.2.1)\n",
      "Requirement already satisfied: zipp>=3.20 in c:\\users\\kimdo\\appdata\\local\\programs\\python\\python310\\lib\\site-packages (from importlib-metadata<=8.5.0,>=6.0->opentelemetry-api>=1.2.0->chromadb!=0.5.4,!=0.5.5,<0.6.0,>=0.4.0->langchain-chroma) (3.21.0)\n",
      "Collecting mdurl~=0.1\n",
      "  Using cached mdurl-0.1.2-py3-none-any.whl (10.0 kB)\n",
      "Collecting humanfriendly>=9.1\n",
      "  Using cached humanfriendly-10.0-py2.py3-none-any.whl (86 kB)\n",
      "Collecting mpmath<1.4,>=1.1.0\n",
      "  Using cached mpmath-1.3.0-py3-none-any.whl (536 kB)\n",
      "Collecting pyreadline3\n",
      "  Using cached pyreadline3-3.5.4-py3-none-any.whl (83 kB)\n",
      "Requirement already satisfied: pyasn1<0.5.0,>=0.4.6 in c:\\users\\kimdo\\appdata\\roaming\\python\\python310\\site-packages (from pyasn1-modules>=0.2.1->google-auth>=1.0.1->kubernetes>=28.1.0->chromadb!=0.5.4,!=0.5.5,<0.6.0,>=0.4.0->langchain-chroma) (0.4.8)\n",
      "Building wheels for collected packages: docx2txt, pypika\n",
      "  Building wheel for docx2txt (setup.py): started\n",
      "  Building wheel for docx2txt (setup.py): finished with status 'done'\n",
      "  Created wheel for docx2txt: filename=docx2txt-0.8-py3-none-any.whl size=3973 sha256=90a43b0b65e260ea96a52528b025056d5a933ce8bb7a1cac0745d59d5cfb3cfb\n",
      "  Stored in directory: c:\\users\\kimdo\\appdata\\local\\pip\\cache\\wheels\\3c\\78\\a3\\ef70996aa66e38229494dbd84cd747e2e0668f1940bf4a7de8\n",
      "  Building wheel for pypika (pyproject.toml): started\n",
      "  Building wheel for pypika (pyproject.toml): finished with status 'done'\n",
      "  Created wheel for pypika: filename=PyPika-0.48.9-py2.py3-none-any.whl size=53835 sha256=edd47bcd9abe1a18a490d545e6ca540c0acffc5964233f84f6bacf058127a086\n",
      "  Stored in directory: c:\\users\\kimdo\\appdata\\local\\pip\\cache\\wheels\\c4\\41\\b6\\f76a356f0791da799545c23894ceae842eeff054d0eb1fb626\n",
      "Successfully built docx2txt pypika\n",
      "Installing collected packages: pypika, mpmath, monotonic, durationpy, docx2txt, websockets, websocket-client, typing-inspect, tqdm, tenacity, sympy, python-dotenv, pyreadline3, pydantic-core, protobuf, propcache, overrides, orjson, opentelemetry-util-http, multidict, mmh3, mdurl, marshmallow, jsonpointer, jiter, importlib-resources, httpx-sse, httptools, httpcore, grpcio, greenlet, frozenlist, distro, deprecated, click, chroma-hnswlib, bcrypt, backoff, async-timeout, asgiref, anyio, annotated-types, aiohappyeyeballs, yarl, watchfiles, uvicorn, tiktoken, starlette, SQLAlchemy, pydantic, posthog, opentelemetry-proto, opentelemetry-api, markdown-it-py, jsonpatch, humanfriendly, httpx, googleapis-common-protos, dataclasses-json, aiosignal, rich, pydantic-settings, opentelemetry-semantic-conventions, opentelemetry-exporter-otlp-proto-common, openai, langsmith, kubernetes, fastapi, coloredlogs, aiohttp, typer, opentelemetry-sdk, opentelemetry-instrumentation, onnxruntime, langchain-core, opentelemetry-instrumentation-asgi, opentelemetry-exporter-otlp-proto-grpc, langchain-text-splitters, langchain-openai, opentelemetry-instrumentation-fastapi, langchain, langchain-community, chromadb, langchain-chroma\n",
      "  Attempting uninstall: tqdm\n",
      "    Found existing installation: tqdm 4.64.0\n",
      "    Uninstalling tqdm-4.64.0:\n",
      "      Successfully uninstalled tqdm-4.64.0\n",
      "  Attempting uninstall: protobuf\n",
      "    Found existing installation: protobuf 3.19.6\n",
      "    Uninstalling protobuf-3.19.6:\n",
      "      Successfully uninstalled protobuf-3.19.6\n",
      "  Attempting uninstall: grpcio\n",
      "    Found existing installation: grpcio 1.51.1\n",
      "    Uninstalling grpcio-1.51.1:\n",
      "      Successfully uninstalled grpcio-1.51.1\n",
      "Successfully installed SQLAlchemy-2.0.36 aiohappyeyeballs-2.4.4 aiohttp-3.11.11 aiosignal-1.3.2 annotated-types-0.7.0 anyio-4.8.0 asgiref-3.8.1 async-timeout-4.0.3 backoff-2.2.1 bcrypt-4.2.1 chroma-hnswlib-0.7.6 chromadb-0.5.23 click-8.1.8 coloredlogs-15.0.1 dataclasses-json-0.6.7 deprecated-1.2.15 distro-1.9.0 docx2txt-0.8 durationpy-0.9 fastapi-0.115.6 frozenlist-1.5.0 googleapis-common-protos-1.66.0 greenlet-3.1.1 grpcio-1.69.0 httpcore-1.0.7 httptools-0.6.4 httpx-0.28.1 httpx-sse-0.4.0 humanfriendly-10.0 importlib-resources-6.5.2 jiter-0.8.2 jsonpatch-1.33 jsonpointer-3.0.0 kubernetes-31.0.0 langchain-0.3.14 langchain-chroma-0.1.4 langchain-community-0.3.14 langchain-core-0.3.29 langchain-openai-0.2.14 langchain-text-splitters-0.3.4 langsmith-0.2.10 markdown-it-py-3.0.0 marshmallow-3.23.3 mdurl-0.1.2 mmh3-5.0.1 monotonic-1.6 mpmath-1.3.0 multidict-6.1.0 onnxruntime-1.20.1 openai-1.59.3 opentelemetry-api-1.29.0 opentelemetry-exporter-otlp-proto-common-1.29.0 opentelemetry-exporter-otlp-proto-grpc-1.29.0 opentelemetry-instrumentation-0.50b0 opentelemetry-instrumentation-asgi-0.50b0 opentelemetry-instrumentation-fastapi-0.50b0 opentelemetry-proto-1.29.0 opentelemetry-sdk-1.29.0 opentelemetry-semantic-conventions-0.50b0 opentelemetry-util-http-0.50b0 orjson-3.10.13 overrides-7.7.0 posthog-3.7.5 propcache-0.2.1 protobuf-5.29.2 pydantic-2.10.4 pydantic-core-2.27.2 pydantic-settings-2.7.1 pypika-0.48.9 pyreadline3-3.5.4 python-dotenv-1.0.1 rich-13.9.4 starlette-0.41.3 sympy-1.13.3 tenacity-9.0.0 tiktoken-0.8.0 tqdm-4.67.1 typer-0.15.1 typing-inspect-0.9.0 uvicorn-0.34.0 watchfiles-1.0.3 websocket-client-1.8.0 websockets-14.1 yarl-1.18.3\n",
      "Note: you may need to restart the kernel to use updated packages.\n"
     ]
    },
    {
     "name": "stderr",
     "output_type": "stream",
     "text": [
      "ERROR: pip's dependency resolver does not currently take into account all the packages that are installed. This behaviour is the source of the following dependency conflicts.\n",
      "tensorflow-intel 2.11.0 requires protobuf<3.20,>=3.9.2, but you have protobuf 5.29.2 which is incompatible.\n",
      "tensorboard 2.11.2 requires protobuf<4,>=3.9.2, but you have protobuf 5.29.2 which is incompatible.\n",
      "\n",
      "[notice] A new release of pip available: 22.3.1 -> 24.3.1\n",
      "[notice] To update, run: python.exe -m pip install --upgrade pip\n"
     ]
    }
   ],
   "source": [
    "%pip install python-dotenv langchain langchain-openai langchain-community langchain-text-splitters docx2txt langchain-chroma"
   ]
  },
  {
   "cell_type": "code",
   "execution_count": 1,
   "metadata": {},
   "outputs": [],
   "source": [
    "from langchain_community.document_loaders import Docx2txtLoader\n",
    "from langchain_text_splitters import RecursiveCharacterTextSplitter\n",
    "\n",
    "text_splitter = RecursiveCharacterTextSplitter(\n",
    "    chunk_size=1500,\n",
    "    chunk_overlap=200,\n",
    ")\n",
    "\n",
    "loader = Docx2txtLoader('./docs/tax.docx')\n",
    "document_list = loader.load_and_split(text_splitter=text_splitter)"
   ]
  },
  {
   "cell_type": "code",
   "execution_count": 2,
   "metadata": {},
   "outputs": [],
   "source": [
    "from dotenv import load_dotenv\n",
    "from langchain_openai import OpenAIEmbeddings\n",
    "\n",
    "# 환경변수를 불러옴\n",
    "load_dotenv()\n",
    "\n",
    "# OpenAI에서 제공하는 Embedding Model을 활용해서 `chunk`를 vector화\n",
    "embedding = OpenAIEmbeddings(model='text-embedding-3-large')"
   ]
  },
  {
   "cell_type": "code",
   "execution_count": 1,
   "metadata": {},
   "outputs": [
    {
     "name": "stdout",
     "output_type": "stream",
     "text": [
      "Note: you may need to restart the kernel to use updated packages.\n"
     ]
    },
    {
     "name": "stderr",
     "output_type": "stream",
     "text": [
      "\n",
      "Usage:   \n",
      "  c:\\Users\\kimdo\\AppData\\Local\\pypoetry\\Cache\\virtualenvs\\rag-llm어플리케이션실습-dgGHJXyp-py3.10\\Scripts\\python.exe -m pip install [options] <requirement specifier> [package-index-options] ...\n",
      "  c:\\Users\\kimdo\\AppData\\Local\\pypoetry\\Cache\\virtualenvs\\rag-llm어플리케이션실습-dgGHJXyp-py3.10\\Scripts\\python.exe -m pip install [options] -r <requirements file> [package-index-options] ...\n",
      "  c:\\Users\\kimdo\\AppData\\Local\\pypoetry\\Cache\\virtualenvs\\rag-llm어플리케이션실습-dgGHJXyp-py3.10\\Scripts\\python.exe -m pip install [options] [-e] <vcs project url> ...\n",
      "  c:\\Users\\kimdo\\AppData\\Local\\pypoetry\\Cache\\virtualenvs\\rag-llm어플리케이션실습-dgGHJXyp-py3.10\\Scripts\\python.exe -m pip install [options] [-e] <local project path> ...\n",
      "  c:\\Users\\kimdo\\AppData\\Local\\pypoetry\\Cache\\virtualenvs\\rag-llm어플리케이션실습-dgGHJXyp-py3.10\\Scripts\\python.exe -m pip install [options] <archive url/path> ...\n",
      "\n",
      "no such option: --quite\n"
     ]
    }
   ],
   "source": [
    "%pip install --upgrade --quite \\\n",
    "    langchain-pinecone \\\n",
    "    langchain-openai \\\n",
    "    langchain"
   ]
  },
  {
   "cell_type": "code",
   "execution_count": 3,
   "metadata": {},
   "outputs": [
    {
     "name": "stderr",
     "output_type": "stream",
     "text": [
      "c:\\Users\\kimdo\\AppData\\Local\\pypoetry\\Cache\\virtualenvs\\rag-llm어플리케이션실습-dgGHJXyp-py3.10\\lib\\site-packages\\pinecone\\data\\index.py:1: TqdmWarning: IProgress not found. Please update jupyter and ipywidgets. See https://ipywidgets.readthedocs.io/en/stable/user_install.html\n",
      "  from tqdm.autonotebook import tqdm\n"
     ]
    }
   ],
   "source": [
    "# ChromaDB -> Pinecone 변경\n",
    "\n",
    "import os\n",
    "\n",
    "from pinecone import Pinecone\n",
    "from langchain_pinecone import PineconeVectorStore\n",
    "\n",
    "index_name = 'tax-index'\n",
    "pinecone_api_key = os.environ.get(\"PINECONE_API_KEY\")\n",
    "\n",
    "pc = Pinecone(api_key=pinecone_api_key)\n",
    "database = PineconeVectorStore.from_documents(document_list, embedding, index_name=index_name)\n"
   ]
  },
  {
   "cell_type": "code",
   "execution_count": 4,
   "metadata": {},
   "outputs": [
    {
     "data": {
      "text/plain": [
       "[Document(id='b0bc8cef-7744-4110-a8ac-d421beb9db9c', metadata={'source': './docs/tax.docx'}, page_content='1. 「공익신탁법」에 따른 공익신탁의 이익\\n\\n2. 사업소득 중 다음 각 목의 어느 하나에 해당하는 소득\\n\\n가. 논ㆍ밭을 작물 생산에 이용하게 함으로써 발생하는 소득\\n\\n나. 1개의 주택을 소유하는 자의 주택임대소득(제99조에 따른 기준시가가 12억원을 초과하는 주택 및 국외에 소재하는 주택의 임대소득은 제외한다) 또는 해당 과세기간에 대통령령으로 정하는 총수입금액의 합계액이 2천만원 이하인 자의 주택임대소득(2018년 12월 31일 이전에 끝나는 과세기간까지 발생하는 소득으로 한정한다). 이 경우 주택 수의 계산 및 주택임대소득의 산정 등 필요한 사항은 대통령령으로 정한다.\\n\\n다. 대통령령으로 정하는 농어가부업소득\\n\\n라. 대통령령으로 정하는 전통주의 제조에서 발생하는 소득\\n\\n마. 조림기간 5년 이상인 임지(林地)의 임목(林木)의 벌채 또는 양도로 발생하는 소득으로서 연 600만원 이하의 금액. 이 경우 조림기간 및 세액의 계산 등 필요한 사항은 대통령령으로 정한다.\\n\\n바. 대통령령으로 정하는 작물재배업에서 발생하는 소득\\n\\n사. 대통령령으로 정하는 어로어업 또는 양식어업에서 발생하는 소득\\n\\n3. 근로소득과 퇴직소득 중 다음 각 목의 어느 하나에 해당하는 소득\\n\\n가. 대통령령으로 정하는 복무 중인 병(兵)이 받는 급여\\n\\n나. 법률에 따라 동원된 사람이 그 동원 직장에서 받는 급여\\n\\n다. 「산업재해보상보험법」에 따라 수급권자가 받는 요양급여, 휴업급여, 장해급여, 간병급여, 유족급여, 유족특별급여, 장해특별급여, 장의비 또는 근로의 제공으로 인한 부상ㆍ질병ㆍ사망과 관련하여 근로자나 그 유족이 받는 배상ㆍ보상 또는 위자(慰藉)의 성질이 있는 급여\\n\\n라. 「근로기준법」 또는 「선원법」에 따라 근로자ㆍ선원 및 그 유족이 받는 요양보상금, 휴업보상금, 상병보상금(傷病補償金), 일시보상금, 장해보상금, 유족보상금, 행방불명보상금, 소지품 유실보상금, 장의비 및 장제비\\n\\n마. 「고용보험법」에 따라 받는 실업급여, 육아휴직 급여, 육아기 근로시간 단축 급여, 출산전후휴가 급여등, 「제대군인 지원에 관한 법률」에 따라 받는 전직지원금, 「국가공무원법」ㆍ「지방공무원법」에 따른 공무원 또는 「사립학교교직원 연금법」ㆍ「별정우체국법」을 적용받는 사람이 관련 법령에 따라 받는 육아휴직수당(「사립학교법」 제70조의2에 따라 임명된 사무직원이 학교의 정관 또는 규칙에 따라 지급받는 육아휴직수당으로서 대통령령으로 정하는 금액 이하의 것을 포함한다)\\n\\n바. 「국민연금법」에 따라 받는 반환일시금(사망으로 받는 것만 해당한다) 및 사망일시금'),\n",
       " Document(id='f5ca9d49-5888-4b28-92d4-e75eaf1c6df0', metadata={'source': './docs/tax.docx'}, page_content='1) 근로자(사용자와 대통령령으로 정하는 특수관계에 있는 자는 제외한다) 또는 그 배우자의 출산과 관련하여 자녀의 출생일 이후 2년 이내에 사용자로부터 대통령령으로 정하는 바에 따라 최대 두 차례에 걸쳐 지급받는 급여(2021년 1월 1일 이후 출생한 자녀에 대하여 2024년 1월 1일부터 2024년 12월 31일 사이에 지급받은 급여를 포함한다) 전액\\n\\n2) 근로자 또는 그 배우자의 해당 과세기간 개시일을 기준으로 6세 이하(6세가 되는 날과 그 이전 기간을 말한다. 이하 이 조 및 제59조의4에서 같다)인 자녀의 보육과 관련하여 사용자로부터 지급받는 급여로서 월 20만원 이내의 금액\\n\\n버. 「국군포로의 송환 및 대우 등에 관한 법률」에 따른 국군포로가 받는 보수 및 퇴직일시금\\n\\n서. 「교육기본법」 제28조제1항에 따라 받는 장학금 중 대학생이 근로를 대가로 지급받는 장학금(「고등교육법」 제2조제1호부터 제4호까지의 규정에 따른 대학에 재학하는 대학생에 한정한다)\\n\\n어. 「발명진흥법」 제2조제2호에 따른 직무발명으로 받는 다음의 보상금(이하 “직무발명보상금”이라 한다)으로서 대통령령으로 정하는 금액\\n\\n\\u3000\\u3000\\u30001) 「발명진흥법」 제2조제2호에 따른 종업원등(이하 이 조, 제20조 및 제21조에서 “종업원등”이라 한다)이 같은 호에 따른 사용자등(이하 이 조에서 “사용자등”이라 한다)으로부터 받는 보상금. 다만, 보상금을 지급한 사용자등과 대통령령으로 정하는 특수관계에 있는 자가 받는 보상금은 제외한다.\\n\\n\\u3000\\u3000\\u30002) 대학의 교직원 또는 대학과 고용관계가 있는 학생이 소속 대학에 설치된 「산업교육진흥 및 산학연협력촉진에 관한 법률」 제25조에 따른 산학협력단(이하 이 조에서 “산학협력단”이라 한다)으로부터 같은 법 제32조제1항제4호에 따라 받는 보상금\\n\\n저. 대통령령으로 정하는 복리후생적 성질의 급여\\n\\n처. 제20조제1항제6호에 따른 소득 중 다음의 요건을 모두 충족하는 소득으로서 대통령령으로 정하는 금액 이하의 금액\\n\\n1) 임원 또는 종업원(이하 이 조, 제20조 및 제164조의5에서 “임원등”이라 한다) 본인이 소비하는 것을 목적으로 제공받거나 지원을 받아 구입한 재화 또는 용역으로서 대통령령으로 정하는 기간 동안 재판매가 허용되지 아니할 것\\n\\n2) 해당 재화 또는 용역의 제공과 관련하여 모든 임원등에게 공통으로 적용되는 기준이 있을 것\\n\\n4. 연금소득 중 다음 각 목의 어느 하나에 해당하는 소득\\n\\n가. 「국민연금법」, 「공무원연금법」 또는 「공무원 재해보상법」, 「군인연금법」 또는 「군인 재해보상법」, 「사립학교교직원 연금법」, 「별정우체국법」 또는 「국민연금과 직역연금의 연계에 관한 법률」(이하 “공적연금 관련법”이라 한다)에 따라 받는 유족연금ㆍ퇴직유족연금ㆍ퇴역유족연금ㆍ장해유족연금ㆍ상이유족연금ㆍ순직유족연금ㆍ직무상유족연금ㆍ위험직무순직유족연금, 장애연금, 장해연금ㆍ비공무상 장해연금ㆍ비직무상 장해연금, 상이연금(傷痍年金), 연계노령유족연금 또는 연계퇴직유족연금\\n\\n나. 삭제<2013. 1. 1.>'),\n",
       " Document(id='e933afe7-092b-45e6-af96-1ac2b0077aa6', metadata={'source': './docs/tax.docx'}, page_content='2. 법인의 주주총회ㆍ사원총회 또는 이에 준하는 의결기관의 결의에 따라 상여로 받는 소득\\n\\n3. 「법인세법」에 따라 상여로 처분된 금액\\n\\n4. 퇴직함으로써 받는 소득으로서 퇴직소득에 속하지 아니하는 소득\\n\\n5. 종업원등 또는 대학의 교직원이 지급받는 직무발명보상금(제21조제1항제22호의2에 따른 직무발명보상금은 제외한다)\\n\\n6. 사업자나 법인이 생산ㆍ공급하는 재화 또는 용역을 그 사업자나 법인(「독점규제 및 공정거래에 관한 법률」에 따른 계열회사를 포함한다)의 사업장에 종사하는 임원등에게 대통령령으로 정하는 바에 따라 시가보다 낮은 가격으로 제공하거나 구입할 수 있도록 지원함으로써 해당 임원등이 얻는 이익\\n\\n② 근로소득금액은 제1항 각 호의 소득의 금액의 합계액(비과세소득의 금액은 제외하며, 이하 “총급여액”이라 한다)에서 제47조에 따른 근로소득공제를 적용한 금액으로 한다.\\n\\n③ 근로소득의 범위에 관하여 필요한 사항은 대통령령으로 정한다.\\n\\n[전문개정 2009. 12. 31.]\\n\\n\\n\\n제20조의2 삭제 <2006. 12. 30.>\\n\\n\\n\\n제20조의3(연금소득) ① 연금소득은 해당 과세기간에 발생한 다음 각 호의 소득으로 한다. <개정 2013. 1. 1., 2014. 1. 1., 2014. 12. 23., 2023. 12. 31.>\\n\\n1. 공적연금 관련법에 따라 받는 각종 연금(이하 “공적연금소득”이라 한다)\\n\\n2. 다음 각 목에 해당하는 금액을 그 소득의 성격에도 불구하고 연금계좌[“연금저축”의 명칭으로 설정하는 대통령령으로 정하는 계좌(이하 “연금저축계좌”라 한다) 또는 퇴직연금을 지급받기 위하여 설정하는 대통령령으로 정하는 계좌(이하 “퇴직연금계좌”라 한다)를 말한다. 이하 같다]에서 대통령령으로 정하는 연금형태 등으로 인출(이하 “연금수령”이라 하며, 연금수령 외의 인출은 “연금외수령”이라 한다)하는 경우의 그 연금\\n\\n가. 제146조제2항에 따라 원천징수되지 아니한 퇴직소득\\n\\n나. 제59조의3에 따라 세액공제를 받은 연금계좌 납입액\\n\\n다. 연금계좌의 운용실적에 따라 증가된 금액\\n\\n라. 그 밖에 연금계좌에 이체 또는 입금되어 해당 금액에 대한 소득세가 이연(移延)된 소득으로서 대통령령으로 정하는 소득\\n\\n3. 제2호에 따른 소득과 유사하고 연금 형태로 받는 것으로서 대통령령으로 정하는 소득\\n\\n② 공적연금소득은 2002년 1월 1일 이후에 납입된 연금 기여금 및 사용자 부담금(국가 또는 지방자치단체의 부담금을 포함한다. 이하 같다)을 기초로 하거나 2002년 1월 1일 이후 근로의 제공을 기초로 하여 받는 연금소득으로 한다.<개정 2013. 1. 1.>\\n\\n③ 연금소득금액은 제1항 각 호에 따른 소득의 금액의 합계액(제2항에 따라 연금소득에서 제외되는 소득과 비과세소득의 금액은 제외하며, 이하 “총연금액”이라 한다)에서 제47조의2에 따른 연금소득공제를 적용한 금액으로 한다.\\n\\n④ 연금소득의 범위 및 계산방법과 그 밖에 필요한 사항은 대통령령으로 정한다.\\n\\n[전문개정 2009. 12. 31.]')]"
      ]
     },
     "execution_count": 4,
     "metadata": {},
     "output_type": "execute_result"
    }
   ],
   "source": [
    "query = '연봉 5천만원인 직장인의 소득세는 얼마인가요?'\n",
    "\n",
    "# `k` 값을 조절해서 얼마나 많은 데이터를 불러올지 결정\n",
    "retrieved_docs = database.similarity_search(query, k=3)\n",
    "retrieved_docs"
   ]
  },
  {
   "cell_type": "code",
   "execution_count": null,
   "metadata": {},
   "outputs": [],
   "source": [
    "%pip install -U langchain langchainhub --quiet"
   ]
  },
  {
   "cell_type": "code",
   "execution_count": 8,
   "metadata": {},
   "outputs": [
    {
     "name": "stderr",
     "output_type": "stream",
     "text": [
      "c:\\Users\\kimdo\\AppData\\Local\\pypoetry\\Cache\\virtualenvs\\rag-llm어플리케이션실습-dgGHJXyp-py3.10\\lib\\site-packages\\langsmith\\client.py:354: LangSmithMissingAPIKeyWarning: API key must be provided when using hosted LangSmith API\n",
      "  warnings.warn(\n"
     ]
    },
    {
     "name": "stdout",
     "output_type": "stream",
     "text": [
      "{'query': '연봉 5천만원인 직장인의 소득세는 얼마인가요?', 'result': '5천만원인 직장인의 소득세는 근로소득에 해당하며, 해당 과세기간 동안 받는 근로소득의 총합액에서 근로소득공제를 적용한 금액으로 계산됩니다. 이에 대한 세액은 대통령령에 따라 정해집니다.'}\n"
     ]
    }
   ],
   "source": [
    "from langchain import hub\n",
    "from langchain_openai import ChatOpenAI\n",
    "\n",
    "# hub에서 rag용 prompt 사\n",
    "prompt = hub.pull(\"rlm/rag-prompt\")\n",
    "\n",
    "llm = ChatOpenAI()\n",
    "\n",
    "from langchain.chains import RetrievalQA\n",
    "\n",
    "retriever = database.as_retriever()\n",
    "qa_chain = RetrievalQA.from_chain_type(\n",
    "  llm,\n",
    "  retriever=retriever,\n",
    "  chain_type_kwargs={\"prompt\": prompt}\n",
    ")\n",
    "\n",
    "ai_message = qa_chain({\"query\": query})\n",
    "\n",
    "print(ai_message)\n"
   ]
  },
  {
   "cell_type": "markdown",
   "metadata": {},
   "source": [
    "# table 변환 후 로드"
   ]
  },
  {
   "cell_type": "code",
   "execution_count": 10,
   "metadata": {},
   "outputs": [],
   "source": [
    "from langchain_community.document_loaders import Docx2txtLoader\n",
    "from langchain_text_splitters import RecursiveCharacterTextSplitter\n",
    "\n",
    "text_splitter = RecursiveCharacterTextSplitter(\n",
    "    chunk_size=1500,\n",
    "    chunk_overlap=200,\n",
    ")\n",
    "\n",
    "# 마크다운으로 테이블을 생성하면 성능향상을 기대할 수 있음\n",
    "loader = Docx2txtLoader('./docs/tax_with_table.docx')\n",
    "document_list = loader.load_and_split(text_splitter=text_splitter)"
   ]
  },
  {
   "cell_type": "code",
   "execution_count": 11,
   "metadata": {},
   "outputs": [],
   "source": [
    "# ChromaDB -> Pinecone 변경\n",
    "\n",
    "import os\n",
    "\n",
    "from pinecone import Pinecone\n",
    "from langchain_pinecone import PineconeVectorStore\n",
    "\n",
    "index_name = 'tax-table-index'\n",
    "pinecone_api_key = os.environ.get(\"PINECONE_API_KEY\")\n",
    "\n",
    "pc = Pinecone(api_key=pinecone_api_key)\n",
    "database = PineconeVectorStore.from_documents(document_list, embedding, index_name=index_name)\n"
   ]
  },
  {
   "cell_type": "code",
   "execution_count": 12,
   "metadata": {},
   "outputs": [
    {
     "name": "stderr",
     "output_type": "stream",
     "text": [
      "c:\\Users\\kimdo\\AppData\\Local\\pypoetry\\Cache\\virtualenvs\\rag-llm어플리케이션실습-dgGHJXyp-py3.10\\lib\\site-packages\\langsmith\\client.py:354: LangSmithMissingAPIKeyWarning: API key must be provided when using hosted LangSmith API\n",
      "  warnings.warn(\n"
     ]
    },
    {
     "name": "stdout",
     "output_type": "stream",
     "text": [
      "{'query': '연봉 5천만원인 직장인의 소득세는 얼마인가요?', 'result': '5천만원인 경우, 연봉에 대한 소득세율은 약 5.15%이며, 소득세는 약 257,500원입니다.'}\n"
     ]
    }
   ],
   "source": [
    "from langchain import hub\n",
    "from langchain_openai import ChatOpenAI\n",
    "from langchain.chains import RetrievalQA\n",
    "\n",
    "# hub에서 rag용 prompt 사\n",
    "prompt = hub.pull(\"rlm/rag-prompt\")\n",
    "\n",
    "llm = ChatOpenAI()\n",
    "\n",
    "retriever = database.as_retriever()\n",
    "qa_chain = RetrievalQA.from_chain_type(\n",
    "  llm,\n",
    "  retriever=retriever,\n",
    "  chain_type_kwargs={\"prompt\": prompt}\n",
    ")\n",
    "\n",
    "ai_message = qa_chain({\"query\": query})\n",
    "\n",
    "print(ai_message)"
   ]
  },
  {
   "cell_type": "code",
   "execution_count": null,
   "metadata": {},
   "outputs": [],
   "source": []
  }
 ],
 "metadata": {
  "kernelspec": {
   "display_name": "Python 3",
   "language": "python",
   "name": "python3"
  },
  "language_info": {
   "codemirror_mode": {
    "name": "ipython",
    "version": 3
   },
   "file_extension": ".py",
   "mimetype": "text/x-python",
   "name": "python",
   "nbconvert_exporter": "python",
   "pygments_lexer": "ipython3",
   "version": "3.10.2"
  }
 },
 "nbformat": 4,
 "nbformat_minor": 2
}
